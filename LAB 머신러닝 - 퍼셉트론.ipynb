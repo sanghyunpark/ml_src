{
 "cells": [
  {
   "cell_type": "markdown",
   "metadata": {
    "collapsed": true,
    "slideshow": {
     "slide_type": "slide"
    }
   },
   "source": [
    "# LAB 퍼셉트론\n",
    "\n",
    "<img width=\"50%\" src=\"https://i.imgur.com/LbyvxVP.png\" >\n",
    "\n",
    "* 퍼셉트론 개요\n",
    "* 파이썬 구현\n",
    "* Scikit-Learn 구현\n",
    "* 장단점\n",
    "\n",
    "### 2018 FinanceData.KR http://financedata.kr"
   ]
  },
  {
   "cell_type": "code",
   "execution_count": 1,
   "metadata": {
    "collapsed": true,
    "slideshow": {
     "slide_type": "slide"
    }
   },
   "outputs": [],
   "source": [
    "%matplotlib inline\n",
    "import matplotlib.pyplot as plt\n",
    "\n",
    "plt.rcParams[\"axes.grid\"] = True\n",
    "plt.rcParams[\"figure.figsize\"] = (12,6)"
   ]
  },
  {
   "cell_type": "markdown",
   "metadata": {
    "slideshow": {
     "slide_type": "slide"
    }
   },
   "source": [
    "#  퍼셉트론(perceptron)\n",
    "* 가장 오래되고 단순한 형태의 판별 함수 기반 예측 모형(discriminant function based predition model)\n",
    "* 동물의 신경(neuron) 구조에 기반한 아이디어, 1962년 Rosenblatt"
   ]
  },
  {
   "cell_type": "markdown",
   "metadata": {
    "slideshow": {
     "slide_type": "slide"
    }
   },
   "source": [
    "# 퍼셉트론의 구성\n",
    "\n",
    "* 임계치(threshold): 어떠한 값이 활성화되기 위한 최소값\n",
    "* 가중치(weight): 선형 경계의 방향성 또는 형태를 나타내는 값들\n",
    "* 바이어스(bias): 선형 경계의 절편 (직선의 경우는 y절편)\n",
    "* net값: 입력값과 가중치의 곱을 모두 합한 값\n",
    "* 활성함수(activation function):  net값이 임계치보다 크면 1을 출력, 작으면 0을 출력하는 함수\n",
    "* 뉴런(neuron): 인공신경망을 구성하는 기본 요소\n",
    "    \n",
    "<img width=\"50%\" src=\"https://i.imgur.com/6t1GiPc.png\" >\n",
    "\n",
    "퍼셉트론은 입력 $x=(1, x_1,⋯, x_m )$ 에 대해 1 또는 -1의 값을 갖는  y 를 출력하는 비선형 함수\n",
    "\n",
    "$$ y = f(w^Tx) $$\n",
    "\n",
    "퍼셉트론 활성화 함수\n",
    "\n",
    "$$ y = f(z) = \\begin{cases} -1, & z < 0, \\\\ 1, & z \\ge 0 \\end{cases}  $$\n",
    "\n",
    "\n",
    "### Pseudo code\n",
    "```python\n",
    "if (x1*w1 + x2*w2 +  x3*w3 ... xn*wn) > z:\n",
    "    y = 1\n",
    "else:\n",
    "    y = -1\n",
    "```"
   ]
  },
  {
   "cell_type": "markdown",
   "metadata": {
    "slideshow": {
     "slide_type": "slide"
    }
   },
   "source": [
    "# 퍼셉트론과 선형분리\n",
    "* 학습 데이터가 선형 분리될 수 있을 때 적합한 알고리즘\n",
    "* 학습이 반복될 수 록 선의 기울기가 달라진다 <br> (학습을 하면서 weight가 계속 조정)\n",
    "\n",
    "<img src=\"https://upload.wikimedia.org/wikipedia/commons/thumb/8/8a/Perceptron_example.svg/500px-Perceptron_example.svg.png\" >\n",
    "   \n",
    "https://en.wikipedia.org"
   ]
  },
  {
   "cell_type": "markdown",
   "metadata": {
    "slideshow": {
     "slide_type": "slide"
    }
   },
   "source": [
    "# Python 퍼셉트론 구현"
   ]
  },
  {
   "cell_type": "code",
   "execution_count": 2,
   "metadata": {
    "slideshow": {
     "slide_type": "-"
    }
   },
   "outputs": [
    {
     "name": "stdout",
     "output_type": "stream",
     "text": [
      "[  2.   3.  13.]\n"
     ]
    }
   ],
   "source": [
    "import numpy as np\n",
    "\n",
    "# 데이터\n",
    "X = np.array([\n",
    "    [-2, 4, -1],\n",
    "    [4,  1, -1],\n",
    "    [1, 6, -1],\n",
    "    [2, 4, -1],\n",
    "    [6, 2, -1],\n",
    "])\n",
    "\n",
    "# 레이블\n",
    "y = np.array([-1, -1, 1, 1, 1])\n",
    "\n",
    "# 학습율과 에포크 지정\n",
    "eta = 1\n",
    "epochs = 20\n",
    "\n",
    "# 퍼셉트론 SGD\n",
    "w = np.zeros(len(X[0]))\n",
    "for t in range(epochs):\n",
    "    for i, x in enumerate(X):\n",
    "        if (np.dot(X[i], w)*y[i]) <= 0:\n",
    "            w = w + eta*X[i]*y[i]\n",
    "\n",
    "# 가중치값들 출력 \n",
    "print(w)"
   ]
  },
  {
   "cell_type": "code",
   "execution_count": 3,
   "metadata": {
    "slideshow": {
     "slide_type": "subslide"
    }
   },
   "outputs": [
    {
     "data": {
      "text/plain": [
       "array([[-2,  4, -1],\n",
       "       [ 4,  1, -1],\n",
       "       [ 1,  6, -1],\n",
       "       [ 2,  4, -1],\n",
       "       [ 6,  2, -1]])"
      ]
     },
     "execution_count": 3,
     "metadata": {},
     "output_type": "execute_result"
    }
   ],
   "source": [
    "# 데이터\n",
    "X = np.array([\n",
    "    [-2, 4],\n",
    "    [4,  1],\n",
    "    [1, 6],\n",
    "    [2, 4],\n",
    "    [6, 2],\n",
    "])\n",
    "\n",
    "# 바이어스 추가\n",
    "b = np.full((len(X), 1), -1)\n",
    "X = np.append(X, b, axis=1)\n",
    "X"
   ]
  },
  {
   "cell_type": "code",
   "execution_count": 4,
   "metadata": {
    "slideshow": {
     "slide_type": "subslide"
    }
   },
   "outputs": [
    {
     "data": {
      "text/plain": [
       "<matplotlib.collections.PathCollection at 0x7f26bf398fd0>"
      ]
     },
     "execution_count": 4,
     "metadata": {},
     "output_type": "execute_result"
    },
    {
     "data": {
      "image/png": "[encoded data removed]",
      "text/plain": [
       "<matplotlib.figure.Figure at 0x7f26c142ab38>"
      ]
     },
     "metadata": {},
     "output_type": "display_data"
    }
   ],
   "source": [
    "plt.scatter(X[y > 0, 0], X[y > 0, 1], s=120, marker='o', c='r')\n",
    "plt.scatter(X[y < 0, 0], X[y < 0, 1], s=120, marker='v', c='b')"
   ]
  },
  {
   "cell_type": "markdown",
   "metadata": {
    "slideshow": {
     "slide_type": "slide"
    }
   },
   "source": [
    "# SGD 구현\n",
    "SGD(Stochastic Gradient Descent): 일부 표본 데이터만 사용하여 gradient의 추정치 산출하는 방법\n",
    "* 퍼셉트론은 SGD 최적화 사용\n",
    "* 한번에 하나의 오분류된 데이터만을 이용하여 가중치를 조정\n",
    "* $η_k$는 학습률(learning rate)\n",
    "\n",
    "$$ w_{k+1}=w_k+η_k x_i y_i $$"
   ]
  },
  {
   "cell_type": "code",
   "execution_count": 5,
   "metadata": {
    "slideshow": {
     "slide_type": "-"
    }
   },
   "outputs": [
    {
     "name": "stdout",
     "output_type": "stream",
     "text": [
      "0 42.0\n",
      "1 39.0\n",
      "2 36.0\n",
      "3 33.0\n",
      "4 32.0\n",
      "5 30.0\n",
      "6 27.0\n",
      "7 30.0\n",
      "8 24.0\n",
      "9 44.0\n",
      "10 27.0\n",
      "11 24.0\n",
      "12 21.0\n",
      "13 16.0\n",
      "14 0\n",
      "15 0\n",
      "16 0\n",
      "17 0\n",
      "18 0\n",
      "19 0\n"
     ]
    }
   ],
   "source": [
    "w = np.zeros(len(X[0]))\n",
    "\n",
    "eta = 1\n",
    "n = 20\n",
    "errors = []\n",
    "\n",
    "for t in range(n):\n",
    "    total_error = 0\n",
    "    for i, x in enumerate(X):\n",
    "        err = np.dot(X[i], w)*y[i]\n",
    "        if err <= 0:\n",
    "            total_error += err\n",
    "            w = w + eta*X[i]*y[i]\n",
    "    print(t, -1 * total_error)\n",
    "    errors.append(-1 * total_error)"
   ]
  },
  {
   "cell_type": "code",
   "execution_count": 6,
   "metadata": {
    "slideshow": {
     "slide_type": "subslide"
    }
   },
   "outputs": [
    {
     "data": {
      "text/plain": [
       "<matplotlib.text.Text at 0x7f26bf20c8d0>"
      ]
     },
     "execution_count": 6,
     "metadata": {},
     "output_type": "execute_result"
    },
    {
     "data": {
      "image/png": "[encoded data removed]",
      "text/plain": [
       "<matplotlib.figure.Figure at 0x7f26bf3d77f0>"
      ]
     },
     "metadata": {},
     "output_type": "display_data"
    }
   ],
   "source": [
    "plt.plot(errors)\n",
    "plt.xlabel('Epoch')\n",
    "plt.ylabel('Loss')"
   ]
  },
  {
   "cell_type": "markdown",
   "metadata": {
    "slideshow": {
     "slide_type": "subslide"
    }
   },
   "source": [
    "# 결과 (가중치 값)"
   ]
  },
  {
   "cell_type": "code",
   "execution_count": 7,
   "metadata": {
    "slideshow": {
     "slide_type": "-"
    }
   },
   "outputs": [
    {
     "data": {
      "text/plain": [
       "array([  2.,   3.,  13.])"
      ]
     },
     "execution_count": 7,
     "metadata": {},
     "output_type": "execute_result"
    }
   ],
   "source": [
    "w"
   ]
  },
  {
   "cell_type": "markdown",
   "metadata": {
    "slideshow": {
     "slide_type": "slide"
    }
   },
   "source": [
    "# 테스트"
   ]
  },
  {
   "cell_type": "code",
   "execution_count": 8,
   "metadata": {
    "slideshow": {
     "slide_type": "-"
    }
   },
   "outputs": [
    {
     "name": "stdout",
     "output_type": "stream",
     "text": [
      "[-2, 4] -1.0\n",
      "[4, 1] -1.0\n",
      "[1, 6] 1.0\n",
      "[2, 4] 1.0\n",
      "[6, 2] 1.0\n"
     ]
    }
   ],
   "source": [
    "def predict(X):\n",
    "    return np.sign( np.dot(np.append(X, [-1]), w))\n",
    "\n",
    "# 기존 데이터\n",
    "X = [\n",
    "    [-2, 4],\n",
    "    [4,  1],\n",
    "    [1, 6],\n",
    "    [2, 4],\n",
    "    [6, 2],\n",
    "]\n",
    "\n",
    "for i, x in enumerate(X):\n",
    "    print( x, predict(x) )"
   ]
  },
  {
   "cell_type": "code",
   "execution_count": 9,
   "metadata": {
    "slideshow": {
     "slide_type": "subslide"
    }
   },
   "outputs": [
    {
     "name": "stdout",
     "output_type": "stream",
     "text": [
      "[2, 2] -1.0\n",
      "[4, 3] 1.0\n"
     ]
    }
   ],
   "source": [
    "# 새로운 데이터에 대해 테스트\n",
    "\n",
    "print([2, 2], predict([2, 2]) )\n",
    "print([4, 3], predict([4, 3]) )"
   ]
  },
  {
   "cell_type": "markdown",
   "metadata": {
    "slideshow": {
     "slide_type": "slide"
    }
   },
   "source": [
    "# Scikit-Learn 퍼셉트론 구현"
   ]
  },
  {
   "cell_type": "code",
   "execution_count": 10,
   "metadata": {
    "collapsed": true,
    "slideshow": {
     "slide_type": "-"
    }
   },
   "outputs": [],
   "source": [
    "# 데이터\n",
    "X = np.array([\n",
    "    [-2, 4],\n",
    "    [4,  1],\n",
    "    [1, 6],\n",
    "    [2, 4],\n",
    "    [6, 2],\n",
    "])\n",
    "\n",
    "# 레이블\n",
    "y = np.array([-1, -1, 1, 1, 1])"
   ]
  },
  {
   "cell_type": "code",
   "execution_count": 11,
   "metadata": {
    "slideshow": {
     "slide_type": "subslide"
    }
   },
   "outputs": [
    {
     "data": {
      "text/plain": [
       "Perceptron(alpha=0.0001, class_weight=None, eta0=1, fit_intercept=True,\n",
       "      max_iter=20, n_iter=None, n_jobs=1, penalty=None, random_state=0,\n",
       "      shuffle=True, tol=None, verbose=0, warm_start=False)"
      ]
     },
     "execution_count": 11,
     "metadata": {},
     "output_type": "execute_result"
    }
   ],
   "source": [
    "from sklearn.linear_model import Perceptron\n",
    "\n",
    "# n_iter : 에포크 수(=훈련 횟수, =가중치를 조종 횟수)\n",
    "# eta0 : 학습률\n",
    "m = Perceptron(max_iter=20, eta0=1)\n",
    "m.fit(X, y)"
   ]
  },
  {
   "cell_type": "code",
   "execution_count": 12,
   "metadata": {
    "slideshow": {
     "slide_type": "-"
    }
   },
   "outputs": [
    {
     "data": {
      "text/plain": [
       "(array([[ 2.,  3.]]), array([-13.]))"
      ]
     },
     "execution_count": 12,
     "metadata": {},
     "output_type": "execute_result"
    }
   ],
   "source": [
    "# 계수(기울기), 절편\n",
    "\n",
    "m.coef_, m.intercept_"
   ]
  },
  {
   "cell_type": "markdown",
   "metadata": {
    "slideshow": {
     "slide_type": "subslide"
    }
   },
   "source": [
    "# 퍼셉트론 라인 (decision boundary)"
   ]
  },
  {
   "cell_type": "code",
   "execution_count": 13,
   "metadata": {
    "slideshow": {
     "slide_type": "-"
    }
   },
   "outputs": [
    {
     "data": {
      "text/plain": [
       "<matplotlib.legend.Legend at 0x7f26b456ca20>"
      ]
     },
     "execution_count": 13,
     "metadata": {},
     "output_type": "execute_result"
    },
    {
     "data": {
      "image/png": "[encoded data removed]",
      "text/plain": [
       "<matplotlib.figure.Figure at 0x7f26b461c240>"
      ]
     },
     "metadata": {},
     "output_type": "display_data"
    }
   ],
   "source": [
    "# 데이터 그리기\n",
    "plt.scatter(X[y > 0, 0], X[y > 0, 1], s=120, marker='o', c='r', label='C1')\n",
    "plt.scatter(X[y < 0, 0], X[y < 0, 1], s=120, marker='v', c='b', label='C2')\n",
    "\n",
    "# 퍼셉트론 라인 (decision boundary)\n",
    "w = m.coef_[0]\n",
    "a = -w[0] / w[1]\n",
    "xmin, xmax = plt.xlim()\n",
    "xx = np.linspace(xmin, xmax)\n",
    "yy = a * xx - (m.intercept_[0]) / w[1]\n",
    "plt.plot(xx, yy, 'k--', label='perceptron')\n",
    "\n",
    "plt.legend(fontsize = 15)"
   ]
  },
  {
   "cell_type": "code",
   "execution_count": 14,
   "metadata": {
    "slideshow": {
     "slide_type": "-"
    }
   },
   "outputs": [
    {
     "data": {
      "text/plain": [
       "array([-1,  1])"
      ]
     },
     "execution_count": 14,
     "metadata": {},
     "output_type": "execute_result"
    }
   ],
   "source": [
    "m.predict([[2, 2], [4, 3]])"
   ]
  },
  {
   "cell_type": "markdown",
   "metadata": {
    "slideshow": {
     "slide_type": "slide"
    }
   },
   "source": [
    "# 모델 평가\n",
    "\n",
    "metrics모듈을 통해 가능한 여러 가지 성능 메트릭을 아주 다양하게 구현"
   ]
  },
  {
   "cell_type": "code",
   "execution_count": 15,
   "metadata": {
    "slideshow": {
     "slide_type": "-"
    }
   },
   "outputs": [
    {
     "name": "stdout",
     "output_type": "stream",
     "text": [
      "Accuracy: 1.00\n"
     ]
    }
   ],
   "source": [
    "from sklearn.metrics import accuracy_score\n",
    "\n",
    "predict = m.predict(X)\n",
    "print('Accuracy: %.2f' % accuracy_score(y, predict))"
   ]
  },
  {
   "cell_type": "markdown",
   "metadata": {
    "slideshow": {
     "slide_type": "slide"
    }
   },
   "source": [
    "# 요약\n",
    "* 초기 신경망 모델 알고리즘, 단순하고 간편\n",
    "* 퍼셉트론의 한계: 완전 선형 분리가 가능하지 않은 경우 수렴하지 않는다\n",
    "* 예, AND, OR에 대해 수렴된 가중치 구할 수 있으나, Exclusive-OR(XOR)연산은 학습불가        "
   ]
  },
  {
   "cell_type": "markdown",
   "metadata": {
    "slideshow": {
     "slide_type": "slide"
    }
   },
   "source": [
    "# LAB\n",
    "* 파이썬 구현의 데이터 X와 레이블 y를 수정해서 다시 실행\n",
    "* Scikit-Learn 구현의 데이터 X와 레이블 y를 수정해서 다시 실행 \n",
    "* 에포크 수 n_iter=1, n_iter=20 일 때 각각 퍼셉트론 라인 그리기\n",
    "* accuracy_score() 사용법 익히기"
   ]
  },
  {
   "cell_type": "markdown",
   "metadata": {
    "slideshow": {
     "slide_type": "notes"
    }
   },
   "source": [
    "### 2018 http://financedata.kr"
   ]
  }
 ],
 "metadata": {
  "celltoolbar": "Slideshow",
  "kernelspec": {
   "display_name": "Python 3",
   "language": "python",
   "name": "python3"
  },
  "language_info": {
   "codemirror_mode": {
    "name": "ipython",
    "version": 3
   },
   "file_extension": ".py",
   "mimetype": "text/x-python",
   "name": "python",
   "nbconvert_exporter": "python",
   "pygments_lexer": "ipython3",
   "version": "3.5.2"
  }
 },
 "nbformat": 4,
 "nbformat_minor": 2
}
